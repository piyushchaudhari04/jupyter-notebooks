{
 "cells": [
  {
   "cell_type": "code",
   "execution_count": 1,
   "id": "cb7115a1-093d-4970-89d5-c83e0adb9995",
   "metadata": {},
   "outputs": [],
   "source": [
    "import spacy"
   ]
  },
  {
   "cell_type": "code",
   "execution_count": 2,
   "id": "bb185447-64c3-4b5f-ba56-e643f57778bd",
   "metadata": {},
   "outputs": [],
   "source": [
    "import tarfile\n",
    "import spacy\n",
    "import skweak "
   ]
  },
  {
   "cell_type": "code",
   "execution_count": 3,
   "id": "411f2a08-51ab-4fb1-8866-35b4ae2e8a1b",
   "metadata": {},
   "outputs": [],
   "source": [
    "arcv_file = tarfile.open(\"reuters_small.tar.gz\")"
   ]
  },
  {
   "cell_type": "code",
   "execution_count": 4,
   "id": "d5b05a03-50e4-42ff-8576-e8da7d2d550e",
   "metadata": {},
   "outputs": [],
   "source": [
    "txt = []  \n",
    "#Create an array to store the text\n",
    "#Open the zip file of corpus\n",
    "arcv_file = tarfile.open(\"reuters_small.tar.gz\")\n",
    " #For each file in the zip file\n",
    "for arcv_mem in arcv_file.getnames():\n",
    "#If the file is a text file, extract it, read its contents and decode it\n",
    "    if arcv_mem.endswith(\".txt\"):\n",
    "        text = arcv_file.extractfile(arcv_mem).read().decode(\"utf8\")\n",
    "        #Add the content to storage array ‘txt\n",
    "        txt.append(text) "
   ]
  },
  {
   "cell_type": "code",
   "execution_count": 5,
   "id": "e7978032-0543-44d8-b76b-460cad9e662d",
   "metadata": {},
   "outputs": [
    {
     "data": {
      "text/plain": [
       "195"
      ]
     },
     "execution_count": 5,
     "metadata": {},
     "output_type": "execute_result"
    }
   ],
   "source": [
    "len(txt)"
   ]
  },
  {
   "cell_type": "code",
   "execution_count": 6,
   "id": "e9e6c7d7-6ddb-4145-8cbe-4bad85e7baa4",
   "metadata": {},
   "outputs": [
    {
     "data": {
      "text/plain": [
       "'Best buy offers used iPhones at lower price\\nATLANTA (Reuters) - Retailer Best Buy Co, seeking new ways to appeal to cost-conscious shoppers, said on Tuesday it is selling refurbished versions of Apple Inc\\'s iPhone 3G at its stores that are priced about $50 less than new iPhones. The electronics chain said the used iPhones, which were returned within 30 days of purchase, are priced at $149 for the model with 8 gigabytes of storage, while the 16-gigabyte version is $249. A two-year service contract with AT&T Inc is required. New iPhone 3Gs currently sell for $199 and $299 at Best Buy Mobile stores. \"This is focusing on customers\\' needs, trying to provide as wide a range of products and networks for our consumers,\" said Scott Moore, vice president of marketing for Best Buy Mobile. Buyers of first-generation iPhones can also upgrade to the faster refurbished 3G models at Best Buy, he said. Moore said AT&T, the exclusive wireless provider for the iPhone, offers refurbished iPhones online. The sale of used iPhones comes as Best Buy, the top consumer electronics chain, seeks ways to fend off increased competition from discounters such as Wal-Mart Stores Inc, which began selling the popular phone late last month. Wal-Mart sells a new 8-gigabyte iPhone 3G for $197 and $297 for the 16-gigabyte model. The iPhone is also sold at Apple stores and AT&T stores. Moore said Best Buy\\'s move was not in response to other retailers\\' actions. '"
      ]
     },
     "execution_count": 6,
     "metadata": {},
     "output_type": "execute_result"
    }
   ],
   "source": [
    "txt[0]"
   ]
  },
  {
   "cell_type": "code",
   "execution_count": 7,
   "id": "73061df8-9dda-4cee-b624-bc79d5e6faf3",
   "metadata": {},
   "outputs": [
    {
     "name": "stderr",
     "output_type": "stream",
     "text": [
      "/Users/apple/Documents/piyush-codebase/ML/jupyter-notebooks/venv/lib/python3.9/site-packages/tqdm/auto.py:21: TqdmWarning: IProgress not found. Please update jupyter and ipywidgets. See https://ipywidgets.readthedocs.io/en/stable/user_install.html\n",
      "  from .autonotebook import tqdm as notebook_tqdm\n"
     ]
    }
   ],
   "source": [
    "pipeline = spacy.load(\"en_core_web_sm\", disable=[\"ner\", \"lemmatizer\"])"
   ]
  },
  {
   "cell_type": "code",
   "execution_count": 8,
   "id": "3376d358-acc8-4117-9f7a-f5ebbcdc17a0",
   "metadata": {},
   "outputs": [],
   "source": [
    "docs = list(pipeline.pipe(txt))"
   ]
  },
  {
   "cell_type": "code",
   "execution_count": 10,
   "id": "172cf702-8ccc-4034-b253-8acc228c0ea0",
   "metadata": {},
   "outputs": [
    {
     "ename": "TypeError",
     "evalue": "'generator' object is not subscriptable",
     "output_type": "error",
     "traceback": [
      "\u001b[0;31m---------------------------------------------------------------------------\u001b[0m",
      "\u001b[0;31mTypeError\u001b[0m                                 Traceback (most recent call last)",
      "Cell \u001b[0;32mIn[10], line 1\u001b[0m\n\u001b[0;32m----> 1\u001b[0m \u001b[43mdocs\u001b[49m\u001b[43m[\u001b[49m\u001b[38;5;241;43m0\u001b[39;49m\u001b[43m]\u001b[49m\u001b[38;5;241;43m.\u001b[39;49m\u001b[43mnoun_chunks\u001b[49m\u001b[43m[\u001b[49m\u001b[38;5;241;43m-\u001b[39;49m\u001b[38;5;241;43m1\u001b[39;49m\u001b[43m]\u001b[49m\n",
      "\u001b[0;31mTypeError\u001b[0m: 'generator' object is not subscriptable"
     ]
    }
   ],
   "source": []
  },
  {
   "cell_type": "code",
   "execution_count": 11,
   "id": "68982b5d-75f6-4092-9076-b50211bde40e",
   "metadata": {},
   "outputs": [],
   "source": [
    "def find_company(doc):\n",
    "#for each noun in the document\n",
    "    for chunk in doc.noun_chunks:\n",
    "#If the noun ends with suffix like ‘corp’, ‘inc’ etc\n",
    "        if chunk[-1].lower_.rstrip(\".\") in {'corp', 'inc', 'ltd', 'llc', 'sa', 'ag'}:\n",
    "        #label the chunk as COMPANY\n",
    "            yield chunk.start, chunk.end, \"COMPANY\" "
   ]
  },
  {
   "cell_type": "code",
   "execution_count": 12,
   "id": "4e6c8d16-bfb6-45bc-aecb-fda4da42a7a8",
   "metadata": {},
   "outputs": [],
   "source": [
    "detect_company = skweak.heuristics.FunctionAnnotator(\"company_detector\", find_company)"
   ]
  },
  {
   "cell_type": "code",
   "execution_count": 13,
   "id": "a49497d4-636e-4452-b6f7-d624341e2b50",
   "metadata": {},
   "outputs": [],
   "source": [
    "docs = list(detect_company.pipe(docs))"
   ]
  },
  {
   "cell_type": "code",
   "execution_count": 18,
   "id": "0b745b89-feaf-4016-b02a-93ef71292e05",
   "metadata": {},
   "outputs": [
    {
     "data": {
      "text/html": [
       "<span class=\"tex2jax_ignore\"><div class=\"entities\" style=\"line-height: 2.5; direction: ltr\">Stocks rise on stimulus plan hopes<br>NEW YORK (Reuters) - Stocks gained on Tuesday on the increased likelihood of a government stimulus package after the release of minutes from the last Federal Reserve policy meeting painted a dismal picture of the U.S. economy. Investors bet technology stocks would benefit from President-elect Barack Obama's proposed economic plan that would include the largest U.S. infrastructure investment since the 1950s. Microsoft ( MSFT.O ) added 1.2 percent to $20.76 after the software maker said it sold 28 million units worldwide of its Xbox 360 video game console through the end of 2008, extending the Xbox's lead over rival Sony Corp's ( 6758.T )( SNE.N ) PlayStation 3. The Federal Reserve, in minutes from its December 15-16 meeting, warned of uncomfortably low levels of inflation and said the economic outlook will be weak for some time. &quot;There is a little bit of a honeymoon period with the ushering in of the new calendar year, people are anticipating bold initiatives in the stimulus package,&quot; said Todd Clark, managing director of stock trading at Nollenberger Capital Partners in San Francisco. &quot;It seems like there is some willingness to take risks again.&quot; The Dow Jones industrial average .DJI was up 62.21 points, or 0.69 percent, to 9,015.10. The Standard &amp; Poor's 500 Index .SPX gained 7.25 points, or 0.78 percent, to 934.70. The Nasdaq Composite Index .IXIC added 24.35 points, or 1.50 percent, to 1,652.38. The Dow has risen six of the last eight trading sessions and is down 28 percent from one year ago. Retailers rose ahead of closely monitored same-store sales figures -- an industry benchmark -- later in the week after the latest report on U.S. chain stores provided a small sign of relief. After a dismal holiday shopping season, the data showed sales rose 1.4 percent last week over the prior period and fell less than the same week a year earlier. The S&amp;P retail index .RLX rose 2.3 percent. Materials and mining companies were among the top advancers on Tuesday as a global commodities benchmark .CRB settled at its highest level since November 28, helped in part by a rally in precious and base metals, soft commodities and some energy futures. The S&amp;P index of materials companies .GSPM rose 1.9 percent, while an ETF tracking both metal and mining companies ( XME.P ) jumped 3.6 percent. But in after-the-bell trade, shares of Alcoa ( AA.N ) sank after the aluminum producer said it will cut production and reduce about 13,500 jobs, or about 13 percent of its global workforce, in an effort to save cash and reduce costs in response to the economic downturn. Shares of Alcoa, a Dow component, were down 4.3 percent in after-market trade. Earlier in the session, weaker-than-expected new orders received by U.S. factories in November and a seven-year low in pending home sales for that month spurred concerns about mounting job losses and the deepening U.S. recession. Technology shares, which are seen as better prepared to weather the economic downturn due to large cash reserves, were a particular bright spot. \n",
       "<mark class=\"entity\" style=\"background: #ddd; padding: 0.45em 0.6em; margin: 0 0.25em; line-height: 1; border-radius: 0.35em;\">\n",
       "    International Business Machines Corp\n",
       "    <span style=\"font-size: 0.8em; font-weight: bold; line-height: 1; border-radius: 0.35em; vertical-align: middle; margin-left: 0.5rem\">COMPANY</span>\n",
       "</mark>\n",
       " ( IBM.N ) and Hewlett-Packard Co ( HPQ.N ) pushed the Dow higher, rising 2.8 percent and 8.2 percent respectively. However, after initially rising and helping to lift the Nasdaq in the wake of an Oppenheimer &amp; Co upgrade, shares of \n",
       "<mark class=\"entity\" style=\"background: #ddd; padding: 0.45em 0.6em; margin: 0 0.25em; line-height: 1; border-radius: 0.35em;\">\n",
       "    Apple Inc\n",
       "    <span style=\"font-size: 0.8em; font-weight: bold; line-height: 1; border-radius: 0.35em; vertical-align: middle; margin-left: 0.5rem\">COMPANY</span>\n",
       "</mark>\n",
       " ( AAPL.O ) retreated as its performance at the Macworld expo in San Francisco disappointed investors. Apple, which had previously introduced the iPhone at Macworld, frustrated investors with its lack of big news. Shares of Apple slipped 1.7 percent to $93.02. Volume on the New York Stock Exchange totaled about 1.33 billion shares, and about 2.17 billion shares traded on the Nasdaq. Advancers outnumbered decliners on the New York Stock Exchange by a ratio of about 7 to 2, while on the Nasdaq the ratio was about five to two. </div></span>"
      ],
      "text/plain": [
       "<IPython.core.display.HTML object>"
      ]
     },
     "metadata": {},
     "output_type": "display_data"
    }
   ],
   "source": [
    "skweak.utils.display_entities(docs[15], \"company_detector\")"
   ]
  },
  {
   "cell_type": "code",
   "execution_count": 19,
   "id": "9f3e727b-1123-4dfb-baf8-1bbb586afc2a",
   "metadata": {},
   "outputs": [
    {
     "name": "stdout",
     "output_type": "stream",
     "text": [
      "Extracting data from crunchbase_companies.json.gz\n",
      "Populating trie for class COMPANY (number: 539174)\n"
     ]
    }
   ],
   "source": [
    "comp_data = skweak.gazetteers.extract_json_data(\"crunchbase_companies.json.gz\")\n",
    "#Labelling function\n",
    "gzt = skweak.gazetteers.GazetteerAnnotator(\"gazetteer\", comp_data)"
   ]
  },
  {
   "cell_type": "code",
   "execution_count": 20,
   "id": "919dc886-fec7-45e5-bea9-62d06f32a65f",
   "metadata": {},
   "outputs": [],
   "source": [
    "docs = list(gzt.pipe(docs))"
   ]
  },
  {
   "cell_type": "code",
   "execution_count": 23,
   "id": "ef416a97-10a3-4572-b398-e925deaa96dc",
   "metadata": {},
   "outputs": [
    {
     "data": {
      "text/html": [
       "<span class=\"tex2jax_ignore\"><div class=\"entities\" style=\"line-height: 2.5; direction: ltr\">\n",
       "<mark class=\"entity\" style=\"background: #ddd; padding: 0.45em 0.6em; margin: 0 0.25em; line-height: 1; border-radius: 0.35em;\">\n",
       "    Toyota\n",
       "    <span style=\"font-size: 0.8em; font-weight: bold; line-height: 1; border-radius: 0.35em; vertical-align: middle; margin-left: 0.5rem\">COMPANY</span>\n",
       "</mark>\n",
       " orders 11-day output halt as sales slump<br>TOKYO (\n",
       "<mark class=\"entity\" style=\"background: #ddd; padding: 0.45em 0.6em; margin: 0 0.25em; line-height: 1; border-radius: 0.35em;\">\n",
       "    Reuters\n",
       "    <span style=\"font-size: 0.8em; font-weight: bold; line-height: 1; border-radius: 0.35em; vertical-align: middle; margin-left: 0.5rem\">COMPANY</span>\n",
       "</mark>\n",
       ") - Toyota Motor Corp is to halt production at its Japanese plants for 11 days in February and March as a sharp slide in U.S. sales has left dealers' lots full of unsold cars. A 37 percent slump in December sales in \n",
       "<mark class=\"entity\" style=\"background: #ddd; padding: 0.45em 0.6em; margin: 0 0.25em; line-height: 1; border-radius: 0.35em;\">\n",
       "    Toyota\n",
       "    <span style=\"font-size: 0.8em; font-weight: bold; line-height: 1; border-radius: 0.35em; vertical-align: middle; margin-left: 0.5rem\">COMPANY</span>\n",
       "</mark>\n",
       "'s biggest market was its sharpest fall in more than a quarter of a century and worse than declines at struggling U.S. rivals \n",
       "<mark class=\"entity\" style=\"background: #ddd; padding: 0.45em 0.6em; margin: 0 0.25em; line-height: 1; border-radius: 0.35em;\">\n",
       "    General Motors\n",
       "    <span style=\"font-size: 0.8em; font-weight: bold; line-height: 1; border-radius: 0.35em; vertical-align: middle; margin-left: 0.5rem\">COMPANY</span>\n",
       "</mark>\n",
       " and Ford Motor. &quot;I never expected the crisis to spread this fast and leave this deep a scar,&quot; Toyota President Katsuaki Watanabe told reporters at a Tokyo event hosted by Japan's top business lobbies. \n",
       "<mark class=\"entity\" style=\"background: #ddd; padding: 0.45em 0.6em; margin: 0 0.25em; line-height: 1; border-radius: 0.35em;\">\n",
       "    Toyota\n",
       "    <span style=\"font-size: 0.8em; font-weight: bold; line-height: 1; border-radius: 0.35em; vertical-align: middle; margin-left: 0.5rem\">COMPANY</span>\n",
       "</mark>\n",
       " had already announced a three-day production halt for this month at its 12 directly operated Japanese plants -- four car assembly plants and eight for engines, transmissions and other components. A sweeping suspension of domestic production is almost unprecedented. In 1993, \n",
       "<mark class=\"entity\" style=\"background: #ddd; padding: 0.45em 0.6em; margin: 0 0.25em; line-height: 1; border-radius: 0.35em;\">\n",
       "    Toyota\n",
       "    <span style=\"font-size: 0.8em; font-weight: bold; line-height: 1; border-radius: 0.35em; vertical-align: middle; margin-left: 0.5rem\">COMPANY</span>\n",
       "</mark>\n",
       " halted output for one day as a strong yen hammered sales. Japanese-built cars make up around 40 percent of \n",
       "<mark class=\"entity\" style=\"background: #ddd; padding: 0.45em 0.6em; margin: 0 0.25em; line-height: 1; border-radius: 0.35em;\">\n",
       "    Toyota\n",
       "    <span style=\"font-size: 0.8em; font-weight: bold; line-height: 1; border-radius: 0.35em; vertical-align: middle; margin-left: 0.5rem\">COMPANY</span>\n",
       "</mark>\n",
       "'s sales in the United States, where foreign-made cars and trucks have been piling up at ports and dealers' yards. Automakers everywhere are cutting back production as consumers, hit by tight credit, shy away from big-ticket purchases even as companies dangle generous sales incentives. Domestic rivals Honda Motor Co and Nissan Motor Co have both cut output plans by at least 200,000 vehicles for the year to end-March, and analysts expect further adjustments in January-March. \n",
       "<mark class=\"entity\" style=\"background: #ddd; padding: 0.45em 0.6em; margin: 0 0.25em; line-height: 1; border-radius: 0.35em;\">\n",
       "    Toyota\n",
       "    <span style=\"font-size: 0.8em; font-weight: bold; line-height: 1; border-radius: 0.35em; vertical-align: middle; margin-left: 0.5rem\">COMPANY</span>\n",
       "</mark>\n",
       " does not disclose the number of vehicles affected by production stoppages. Together, the four Japanese assembly plants built an average 130,000 vehicles a month in 2007, according to latest available data. \n",
       "<mark class=\"entity\" style=\"background: #ddd; padding: 0.45em 0.6em; margin: 0 0.25em; line-height: 1; border-radius: 0.35em;\">\n",
       "    Toyota\n",
       "    <span style=\"font-size: 0.8em; font-weight: bold; line-height: 1; border-radius: 0.35em; vertical-align: middle; margin-left: 0.5rem\">COMPANY</span>\n",
       "</mark>\n",
       " plans to turn the 11 days in February and March into paid company holiday, a spokesman said. 'DISAPPOINTING' \n",
       "<mark class=\"entity\" style=\"background: #ddd; padding: 0.45em 0.6em; margin: 0 0.25em; line-height: 1; border-radius: 0.35em;\">\n",
       "    Toyota\n",
       "    <span style=\"font-size: 0.8em; font-weight: bold; line-height: 1; border-radius: 0.35em; vertical-align: middle; margin-left: 0.5rem\">COMPANY</span>\n",
       "</mark>\n",
       " warned two weeks ago it would post a first-ever annual operating loss, blaming a relentless sales slide and a crippling rise in the yen, and said it would adjust production as needed beyond January. Analysts said the dismal U.S. sales were no surprise and the outlook for the global car industry remains tough. &quot;For the stock market to re-evaluate this sector, there are two prerequisites: the end of negative news flow and an outlook for a return to the black in the next business year,&quot; Merrill Lynch auto analyst Koichi Sugimoto wrote in a client note. &quot;In that respect, we'd have to say the (U.S. sales) results were disappointing.&quot; \n",
       "<mark class=\"entity\" style=\"background: #ddd; padding: 0.45em 0.6em; margin: 0 0.25em; line-height: 1; border-radius: 0.35em;\">\n",
       "    Toyota\n",
       "    <span style=\"font-size: 0.8em; font-weight: bold; line-height: 1; border-radius: 0.35em; vertical-align: middle; margin-left: 0.5rem\">COMPANY</span>\n",
       "</mark>\n",
       " shares rose 1.3 percent on Tuesday, however, outperforming the broader market, as exporters rallied on a softer yen. With virtually all markets weakening, \n",
       "<mark class=\"entity\" style=\"background: #ddd; padding: 0.45em 0.6em; margin: 0 0.25em; line-height: 1; border-radius: 0.35em;\">\n",
       "    Toyota\n",
       "    <span style=\"font-size: 0.8em; font-weight: bold; line-height: 1; border-radius: 0.35em; vertical-align: middle; margin-left: 0.5rem\">COMPANY</span>\n",
       "</mark>\n",
       " said it would suspend operations at the 12 plants for six days next month and another five days in March. On Monday, data showed \n",
       "<mark class=\"entity\" style=\"background: #ddd; padding: 0.45em 0.6em; margin: 0 0.25em; line-height: 1; border-radius: 0.35em;\">\n",
       "    Toyota\n",
       "    <span style=\"font-size: 0.8em; font-weight: bold; line-height: 1; border-radius: 0.35em; vertical-align: middle; margin-left: 0.5rem\">COMPANY</span>\n",
       "</mark>\n",
       "'s Japan sales slid 18 percent in December, and were down 7.4 percent for 2008. But auto industry executives have warned of a difficult and unpredictable 2009. &quot;I'd like to believe that we'll hit bottom (for the U.S. economy) some time this year,&quot; \n",
       "<mark class=\"entity\" style=\"background: #ddd; padding: 0.45em 0.6em; margin: 0 0.25em; line-height: 1; border-radius: 0.35em;\">\n",
       "    Toyota\n",
       "    <span style=\"font-size: 0.8em; font-weight: bold; line-height: 1; border-radius: 0.35em; vertical-align: middle; margin-left: 0.5rem\">COMPANY</span>\n",
       "</mark>\n",
       "'s \n",
       "<mark class=\"entity\" style=\"background: #ddd; padding: 0.45em 0.6em; margin: 0 0.25em; line-height: 1; border-radius: 0.35em;\">\n",
       "    Watanabe\n",
       "    <span style=\"font-size: 0.8em; font-weight: bold; line-height: 1; border-radius: 0.35em; vertical-align: middle; margin-left: 0.5rem\">COMPANY</span>\n",
       "</mark>\n",
       " said. &quot;But if you look at the automobile market now, it's very, very tough. We need to proceed with the assumption that this situation could continue.&quot; \n",
       "<mark class=\"entity\" style=\"background: #ddd; padding: 0.45em 0.6em; margin: 0 0.25em; line-height: 1; border-radius: 0.35em;\">\n",
       "    Watanabe\n",
       "    <span style=\"font-size: 0.8em; font-weight: bold; line-height: 1; border-radius: 0.35em; vertical-align: middle; margin-left: 0.5rem\">COMPANY</span>\n",
       "</mark>\n",
       " said last month \n",
       "<mark class=\"entity\" style=\"background: #ddd; padding: 0.45em 0.6em; margin: 0 0.25em; line-height: 1; border-radius: 0.35em;\">\n",
       "    Toyota\n",
       "    <span style=\"font-size: 0.8em; font-weight: bold; line-height: 1; border-radius: 0.35em; vertical-align: middle; margin-left: 0.5rem\">COMPANY</span>\n",
       "</mark>\n",
       " would aim to rationalise global operations to create a cost structure that would generate profits from parent-only vehicle sales of 7 million units, about 1 million fewer than it sold last year. The slump in demand for cars has had a swift and damaging knock-on effect on auto parts makers. The Nikkei financial daily reported on Tuesday that Bridgestone Corp, Japan's top tire maker, expects its calendar 2009 operating profit to fall 15 percent to about 100 billion yen ($1.07 billion). Last month, \n",
       "<mark class=\"entity\" style=\"background: #ddd; padding: 0.45em 0.6em; margin: 0 0.25em; line-height: 1; border-radius: 0.35em;\">\n",
       "    Bridgestone\n",
       "    <span style=\"font-size: 0.8em; font-weight: bold; line-height: 1; border-radius: 0.35em; vertical-align: middle; margin-left: 0.5rem\">COMPANY</span>\n",
       "</mark>\n",
       " lowered its 2008 operating profit estimate to 118 billion yen from 155 billion yen. It will report financial results for 2008 on February 19. </div></span>"
      ],
      "text/plain": [
       "<IPython.core.display.HTML object>"
      ]
     },
     "metadata": {},
     "output_type": "display_data"
    }
   ],
   "source": [
    "skweak.utils.display_entities(docs[27], \"gazetteer\")"
   ]
  },
  {
   "cell_type": "code",
   "execution_count": null,
   "id": "172b0f6d-6c92-4d92-b99d-53ab86763af0",
   "metadata": {},
   "outputs": [],
   "source": []
  }
 ],
 "metadata": {
  "kernelspec": {
   "display_name": "Python 3 (ipykernel)",
   "language": "python",
   "name": "python3"
  },
  "language_info": {
   "codemirror_mode": {
    "name": "ipython",
    "version": 3
   },
   "file_extension": ".py",
   "mimetype": "text/x-python",
   "name": "python",
   "nbconvert_exporter": "python",
   "pygments_lexer": "ipython3",
   "version": "3.9.12"
  }
 },
 "nbformat": 4,
 "nbformat_minor": 5
}
