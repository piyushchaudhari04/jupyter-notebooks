{
 "cells": [
  {
   "cell_type": "markdown",
   "metadata": {},
   "source": [
    "Python generators are a simple way of creating iterators.\n",
    "Simply speaking, a generator is a function that returns an object (iterator) which we can iterate \n",
    "over (one value at a time).\n",
    "\n",
    "It is fairly simple to create a generator in Python. It is as easy as defining a normal function with yield \n",
    "statement instead of a return statement.\n",
    "\n",
    "If a function contains at least one yield statement (it may contain other yield or return statements), it becomes a generator function. Both yield and return will return some value from a function.\n",
    "\n",
    "The difference is that, while a return statement terminates a function entirely, yield statement pauses the function saving all its states and later continues from there on successive calls.\n",
    "\n"
   ]
  },
  {
   "cell_type": "markdown",
   "metadata": {},
   "source": [
    "How is generators different from the normal python functions \n",
    "- Generator function contains one or more yield statement.\n",
    "- When called, it returns an object (iterator) but does not start execution immediately.\n",
    "- Methods like __iter__() and __next__() are implemented automatically. So we can iterate through the items using       next().\n",
    "- Once the function yields, the function is paused and the control is transferred to the caller.\n",
    "- Local variables and their states are remembered between successive calls.\n",
    "- Finally, when the function terminates, StopIteration is raised automatically on further calls."
   ]
  },
  {
   "cell_type": "code",
   "execution_count": 2,
   "metadata": {},
   "outputs": [
    {
     "name": "stdout",
     "output_type": "stream",
     "text": [
      "This is printed first\n",
      "1\n",
      "This is printed second\n",
      "2\n",
      "This is printed at last\n",
      "3\n"
     ]
    }
   ],
   "source": [
    "# simple example of a generator \n",
    "def my_gen():\n",
    "    n = 1\n",
    "    print('This is printed first')\n",
    "    # Generator function contains yield statements\n",
    "    yield n\n",
    "\n",
    "    n += 1\n",
    "    print('This is printed second')\n",
    "    yield n\n",
    "\n",
    "    n += 1\n",
    "    print('This is printed at last')\n",
    "    yield n\n",
    "\n",
    "for num in my_gen():\n",
    "    print(num)"
   ]
  },
  {
   "cell_type": "markdown",
   "metadata": {},
   "source": [
    "Same as lambda function creates an anonymous function, generator expression creates an anonymous generator function.\n",
    "\n",
    "The syntax for generator expression is similar to that of a list comprehension in Python. But the square brackets are replaced with round parentheses.\n",
    "\n",
    "The major difference between a list comprehension and a generator expression is that while list comprehension produces the entire list, generator expression produces one item at a time.\n"
   ]
  },
  {
   "cell_type": "code",
   "execution_count": 4,
   "metadata": {},
   "outputs": [
    {
     "data": {
      "text/plain": [
       "<generator object <genexpr> at 0x104e72ed0>"
      ]
     },
     "execution_count": 4,
     "metadata": {},
     "output_type": "execute_result"
    }
   ],
   "source": [
    "# usual list creation \n",
    "my_list = [1, 3, 6, 10]\n",
    "\n",
    "[x**2 for x in my_list]\n",
    "\n",
    "# creating generator using expression\n",
    "\n",
    "(x**2 for x in my_list)"
   ]
  },
  {
   "cell_type": "markdown",
   "metadata": {},
   "source": [
    "Why generators are used in python \n",
    "- memory effecient \n",
    "    - A normal function to return a sequence will create the entire sequence in memory before returning the result. \n",
    "      This is an overkill if the number of items in the sequence is very large.\n",
    "    - Generator implementation of such sequence is memory friendly and is preferred since it only produces one item at       a time.\n",
    "\n",
    "- Represent infinite stream \n",
    "    - Generators are excellent medium to represent an infinite stream of data. Infinite streams cannot be stored in         memory and since generators produce only one item at a time, it can represent infinite stream of data.\n",
    "\n",
    "- pipeline generations \n",
    "    - Suppose we have a log file from a famous fast food chain. The log file has a column (4th column) that keeps           track of the number of pizza sold every hour and we want to sum it to find the total pizzas sold in 5 years."
   ]
  },
  {
   "cell_type": "code",
   "execution_count": null,
   "metadata": {},
   "outputs": [],
   "source": [
    "Let’s say that you have an older laptop with about 4GB of RAM, random access memory. The true size of our beer \n",
    "data set is only about 3MB, but suppose that we asked everyone around the globe to give us their recipes, resulting \n",
    "in a data set around 3GB. If we were to read the entirety of our data set into a variable, \n",
    "it would take up a bit more than 3GB of RAM! This would leave us with little room for other operations, \n",
    "much less other variables of similar size. Storing our data in a list of lists would take up so much memory \n",
    "that any analyses we do would take excruciatingly long to do.\n",
    "\n",
    "we can also use generators withen generators. which will act like actions being applied on stream of data."
   ]
  }
 ],
 "metadata": {
  "kernelspec": {
   "display_name": "Python 3",
   "language": "python",
   "name": "python3"
  },
  "language_info": {
   "codemirror_mode": {
    "name": "ipython",
    "version": 3
   },
   "file_extension": ".py",
   "mimetype": "text/x-python",
   "name": "python",
   "nbconvert_exporter": "python",
   "pygments_lexer": "ipython3",
   "version": "3.7.5"
  }
 },
 "nbformat": 4,
 "nbformat_minor": 4
}
